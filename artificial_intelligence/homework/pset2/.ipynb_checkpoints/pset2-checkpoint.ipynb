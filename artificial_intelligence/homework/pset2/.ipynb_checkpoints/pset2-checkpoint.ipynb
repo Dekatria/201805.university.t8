{
 "cells": [
  {
   "cell_type": "markdown",
   "metadata": {},
   "source": [
    "# Theory Component\n",
    "## Question 1"
   ]
  },
  {
   "cell_type": "code",
   "execution_count": 2,
   "metadata": {},
   "outputs": [
    {
     "data": {
      "text/latex": [
       "\\begin{array}{ll} \n",
       "x_1=(-2,2) & y_1=-1\\\\\n",
       "$x_2=(4,0)$ & y_2=-1\\\\\n",
       "$x_3=(-2,-3)$ & $y_3=1$\n",
       "\\end{array}"
      ],
      "text/plain": [
       "<IPython.core.display.Latex object>"
      ]
     },
     "metadata": {},
     "output_type": "display_data"
    }
   ],
   "source": [
    "%%latex\n",
    "\\begin{array}{ll} \n",
    "x_1=(-2,2) & y_1=-1\\\\\n",
    "$x_2=(4,0)$ & y_2=-1\\\\\n",
    "$x_3=(-2,-3)$ & $y_3=1$\n",
    "\\end{array}"
   ]
  },
  {
   "cell_type": "code",
   "execution_count": null,
   "metadata": {},
   "outputs": [],
   "source": []
  }
 ],
 "metadata": {
  "kernelspec": {
   "display_name": "Python [conda env:201805-AI]",
   "language": "python",
   "name": "conda-env-201805-AI-py"
  },
  "language_info": {
   "codemirror_mode": {
    "name": "ipython",
    "version": 3
   },
   "file_extension": ".py",
   "mimetype": "text/x-python",
   "name": "python",
   "nbconvert_exporter": "python",
   "pygments_lexer": "ipython3",
   "version": "3.5.5"
  }
 },
 "nbformat": 4,
 "nbformat_minor": 2
}
